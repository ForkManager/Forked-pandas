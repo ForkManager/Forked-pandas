{
 "cells": [
  {
   "cell_type": "markdown",
   "metadata": {},
   "source": [
    "[codebasics](https://www.youtube.com/watch?v=F6kmIpWWEdU)\n",
    "[Data School](https://www.youtube.com/watch?v=zxqjeyKP2Tk&list=PL5-da3qGB5ICCsgW1MxlZ0Hq8LL5U3u9y&index=3)"
   ]
  },
  {
   "cell_type": "code",
   "execution_count": 16,
   "metadata": {},
   "outputs": [
    {
     "name": "stdout",
     "output_type": "stream",
     "text": [
      "          event  temperature  windspeed\n",
      "day                                    \n",
      "1/1/2017   Rain           32          6\n",
      "1/2/2017  Sunny           35          7\n",
      "1/3/2017   Snow           28          2\n",
      "1/4/2017   Snow           24          7\n",
      "1/5/2017   Rain           32          4\n",
      "1/6/2017  Sunny           31          2\n"
     ]
    }
   ],
   "source": [
    "import pandas as pd\n",
    "import numpy as np\n",
    "\n",
    "weather_data = {\n",
    "    'day': ['1/1/2017','1/2/2017','1/3/2017','1/4/2017','1/5/2017','1/6/2017'],\n",
    "    'temperature': [32,35,28,24,32,31],\n",
    "    'windspeed': [6,7,2,7,4,2],\n",
    "    'event': ['Rain', 'Sunny', 'Snow','Snow','Rain', 'Sunny']\n",
    "}\n",
    "\n",
    "df = pd.DataFrame(weather_data).set_index('day')\n",
    "print(df)"
   ]
  },
  {
   "cell_type": "code",
   "execution_count": 9,
   "metadata": {},
   "outputs": [
    {
     "name": "stdout",
     "output_type": "stream",
     "text": [
      "       temperature  windspeed\n",
      "count     6.000000   6.000000\n",
      "mean     30.333333   4.666667\n",
      "std       3.829708   2.338090\n",
      "min      24.000000   2.000000\n",
      "25%      28.750000   2.500000\n",
      "50%      31.500000   5.000000\n",
      "75%      32.000000   6.750000\n",
      "max      35.000000   7.000000\n"
     ]
    }
   ],
   "source": [
    "if 0:\n",
    "    print(df['temperature'].max())\n",
    "elif 0:\n",
    "    print(df[df['temperature']>30])\n",
    "elif 0:\n",
    "    #print(df['day'][df['temperature'] == df['temperature'].max()]) # Kinda doing SQL in pandas\n",
    "    print(df.index[df['temperature'] == df['temperature'].max()]) # Kinda doing SQL in pandas\n",
    "elif 0:\n",
    "    print(df[df['temperature'] == df['temperature'].max()]) # Kinda doing SQL in pandas\n",
    "elif 0:\n",
    "    print(df['temperature'].std())\n",
    "elif 1:\n",
    "    print(df.describe())"
   ]
  },
  {
   "cell_type": "code",
   "execution_count": 20,
   "metadata": {},
   "outputs": [
    {
     "name": "stdout",
     "output_type": "stream",
     "text": [
      "day\n",
      "1/1/2017    26\n",
      "1/2/2017    28\n",
      "1/3/2017    26\n",
      "1/4/2017    17\n",
      "1/5/2017    28\n",
      "1/6/2017    29\n",
      "dtype: int64\n"
     ]
    }
   ],
   "source": [
    "if 0:\n",
    "    print(df.index)\n",
    "elif 0:\n",
    "    print(df.columns)\n",
    "elif 0:\n",
    "    print(df.values)\n",
    "    print(type(df.values))\n",
    "elif 0:\n",
    "    print(df.mean(axis=0))\n",
    "elif 0:\n",
    "    print(df.mean(axis=1))\n",
    "elif 0:\n",
    "    print(df[['temperature','windspeed']].apply(np.cumsum))\n",
    "elif 1:\n",
    "    print(df[['temperature','windspeed']].apply(lambda x: x.max() - x.min()))"
   ]
  },
  {
   "cell_type": "code",
   "execution_count": null,
   "metadata": {},
   "outputs": [],
   "source": []
  }
 ],
 "metadata": {
  "anaconda-cloud": {},
  "kernelspec": {
   "display_name": "Python [conda root]",
   "language": "python",
   "name": "conda-root-py"
  },
  "language_info": {
   "codemirror_mode": {
    "name": "ipython",
    "version": 3
   },
   "file_extension": ".py",
   "mimetype": "text/x-python",
   "name": "python",
   "nbconvert_exporter": "python",
   "pygments_lexer": "ipython3",
   "version": "3.5.0"
  }
 },
 "nbformat": 4,
 "nbformat_minor": 1
}
