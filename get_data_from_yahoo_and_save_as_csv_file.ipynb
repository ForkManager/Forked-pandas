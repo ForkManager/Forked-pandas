{
 "cells": [
  {
   "cell_type": "code",
   "execution_count": 11,
   "metadata": {},
   "outputs": [
    {
     "name": "stdout",
     "output_type": "stream",
     "text": [
      "                  High         Low        Open       Close    Volume  \\\n",
      "Date                                                                   \n",
      "2015-12-31  101.720001  101.309998  101.480003  101.459999   3823600   \n",
      "2016-01-04  103.669998  102.489998  103.129997  102.889999   6440000   \n",
      "2016-01-05  103.459999  102.930000  103.129997  103.180000   3500300   \n",
      "2016-01-06  104.800003  103.930000  104.370003  104.669998   9316600   \n",
      "2016-01-07  106.239998  105.190002  105.830002  106.150002  11730400   \n",
      "\n",
      "             Adj Close  \n",
      "Date                    \n",
      "2015-12-31  101.459999  \n",
      "2016-01-04  102.889999  \n",
      "2016-01-05  103.180000  \n",
      "2016-01-06  104.669998  \n",
      "2016-01-07  106.150002  \n",
      "                  High         Low        Open       Close   Volume  \\\n",
      "Date                                                                  \n",
      "2016-12-23  108.250000  107.800003  107.839996  107.930000  5008300   \n",
      "2016-12-27  108.669998  108.239998  108.610001  108.559998  3685500   \n",
      "2016-12-28  108.910004  108.290001  108.400002  108.860001  5091200   \n",
      "2016-12-29  110.529999  109.160004  109.230003  110.290001  7513500   \n",
      "2016-12-30  110.620003  109.529999  110.379997  109.610001  8873700   \n",
      "\n",
      "             Adj Close  \n",
      "Date                    \n",
      "2016-12-23  107.930000  \n",
      "2016-12-27  108.559998  \n",
      "2016-12-28  108.860001  \n",
      "2016-12-29  110.290001  \n",
      "2016-12-30  109.610001  \n",
      "<class 'pandas.core.frame.DataFrame'>\n"
     ]
    }
   ],
   "source": [
    "import pandas_datareader as pdr\n",
    "\n",
    "a = pdr.get_data_yahoo('GLD', '2016-1-1', '2016-12-31')\n",
    "print(a.head())\n",
    "print(a.tail())\n",
    "print(type(a))"
   ]
  },
  {
   "cell_type": "code",
   "execution_count": 2,
   "metadata": {},
   "outputs": [],
   "source": [
    "a.to_csv('./data/WMT.csv')"
   ]
  },
  {
   "cell_type": "code",
   "execution_count": null,
   "metadata": {},
   "outputs": [],
   "source": []
  }
 ],
 "metadata": {
  "kernelspec": {
   "display_name": "Python [conda env:anaconda3]",
   "language": "python",
   "name": "conda-env-anaconda3-py"
  },
  "language_info": {
   "codemirror_mode": {
    "name": "ipython",
    "version": 3
   },
   "file_extension": ".py",
   "mimetype": "text/x-python",
   "name": "python",
   "nbconvert_exporter": "python",
   "pygments_lexer": "ipython3",
   "version": "3.5.0"
  }
 },
 "nbformat": 4,
 "nbformat_minor": 2
}
