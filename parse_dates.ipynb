{
 "cells": [
  {
   "cell_type": "markdown",
   "metadata": {},
   "source": [
    "[codebasics](https://www.youtube.com/watch?v=r0s4slGHwzE&list=PLeo1K3hjS3uuASpe-1LjfG5f14Bnozjwy&index=15&t=4s)\n",
    "[DOC](https://pandas.pydata.org/pandas-docs/stable/reference/api/pandas.read_csv.html)"
   ]
  },
  {
   "cell_type": "markdown",
   "metadata": {},
   "source": [
    "\n",
    "- os.path.isfile(file) – check if given file exists.\n",
    "- os.path.exists(file_or_path) – check if given file or path exists.\n",
    "\n",
    "https://tecadmin.net/python-check-file-directory-exists/\n",
    "\n",
    "- os.mkdir(path)\n",
    "\n",
    "https://thispointer.com/how-to-create-a-directory-in-python/"
   ]
  },
  {
   "cell_type": "code",
   "execution_count": 1,
   "metadata": {},
   "outputs": [],
   "source": [
    "import pandas_datareader as pdr # pip install pandas_datareader \n",
    "import os\n",
    "\n",
    "if not os.path.exists(\"./dow30\"):    \n",
    "    os.mkdir(\"./dow30\")\n",
    "\n",
    "if not os.path.exists('./dow30/WMT.csv'): \n",
    "    pdr.get_data_yahoo('WMT').to_csv('./dow30/WMT.csv')"
   ]
  },
  {
   "cell_type": "code",
   "execution_count": 2,
   "metadata": {},
   "outputs": [],
   "source": [
    "import pandas_datareader as pdr\n",
    "import os\n",
    "\n",
    "dow30 = ['MMM','AXP','AAPL','BA','CAT','CVX','CSCO','KO','DIS','DOW',\n",
    "         'XOM','GS','HD','IBM','INTC','JNJ','JPM','MCD','MRK','MSFT',\n",
    "         'NKE','PFE','PG','TRV','UTX','UNH','VZ','V','WMT','WBA']\n",
    "\n",
    "for ticker in dow30:\n",
    "    if not os.path.exists('./dow30/{}.csv'.format(ticker)): \n",
    "        pdr.get_data_yahoo(ticker).to_csv('./dow30/{}.csv'.format(ticker))"
   ]
  },
  {
   "cell_type": "markdown",
   "metadata": {},
   "source": [
    "# Pandas dates not showing on plot\n",
    "\n",
    "Your date is a string, so matplotlib so it wont automatically plot the labels. Change it to a datetime first and then plot.\n",
    "```\n",
    "import pandas as pd\n",
    "df['Date'] = pd.to_datetime(df.Date)\n",
    "```\n",
    "\n",
    "https://stackoverflow.com/questions/52527270/pandas-dates-not-showing-on-plot"
   ]
  },
  {
   "cell_type": "code",
   "execution_count": 6,
   "metadata": {},
   "outputs": [
    {
     "data": {
      "text/plain": [
       "<matplotlib.axes._subplots.AxesSubplot at 0x7f9a98852128>"
      ]
     },
     "execution_count": 6,
     "metadata": {},
     "output_type": "execute_result"
    },
    {
     "data": {
      "image/png": "[encoded data removed]",
      "text/plain": [
       "<Figure size 432x288 with 1 Axes>"
      ]
     },
     "metadata": {
      "needs_background": "light"
     },
     "output_type": "display_data"
    }
   ],
   "source": [
    "import pandas as pd\n",
    "\n",
    "# comment below if run in python, not jupyter notebook file\n",
    "%matplotlib inline\n",
    "# comment above if run in python, not jupyter notebook file\n",
    "\n",
    "if 0:\n",
    "    df = pd.read_csv(\"./dow30/WMT.CSV\", index_col='Date')\n",
    "    df.index = pd.to_datetime(df.index)\n",
    "elif 0:\n",
    "    df = pd.read_csv(\"./dow30/WMT.CSV\", index_col='Date', \n",
    "                     parse_dates=True)\n",
    "elif 1:\n",
    "    df = pd.read_csv(\"./dow30/WMT.CSV\", index_col='Date', \n",
    "                     parse_dates=['Date'])\n",
    "    \n",
    "df['Adj Close'].plot()"
   ]
  },
  {
   "cell_type": "code",
   "execution_count": 8,
   "metadata": {},
   "outputs": [
    {
     "data": {
      "text/plain": [
       "42.711647033691406"
      ]
     },
     "execution_count": 8,
     "metadata": {},
     "output_type": "execute_result"
    }
   ],
   "source": [
    "df['Adj Close']['2010-01-04']"
   ]
  },
  {
   "cell_type": "code",
   "execution_count": 9,
   "metadata": {},
   "outputs": [
    {
     "data": {
      "text/plain": [
       "Date\n",
       "2010-01-04    42.711647\n",
       "2010-01-05    42.286343\n",
       "2010-01-06    42.191837\n",
       "2010-01-07    42.215462\n",
       "2010-01-08    42.002800\n",
       "2010-01-11    42.695908\n",
       "2010-01-12    43.105453\n",
       "2010-01-13    43.325985\n",
       "2010-01-14    42.695908\n",
       "2010-01-15    42.278473\n",
       "2010-01-19    42.554134\n",
       "2010-01-20    42.420238\n",
       "2010-01-21    41.679886\n",
       "2010-01-22    41.695641\n",
       "2010-01-25    41.648388\n",
       "2010-01-26    42.223335\n",
       "2010-01-27    42.057941\n",
       "2010-01-28    41.435741\n",
       "2010-01-29    42.081577\n",
       "Name: Adj Close, dtype: float64"
      ]
     },
     "execution_count": 9,
     "metadata": {},
     "output_type": "execute_result"
    }
   ],
   "source": [
    "df['Adj Close']['2010-01']"
   ]
  },
  {
   "cell_type": "code",
   "execution_count": 10,
   "metadata": {},
   "outputs": [
    {
     "data": {
      "text/plain": [
       "Date\n",
       "2010-01-04    42.711647\n",
       "2010-01-05    42.286343\n",
       "2010-01-06    42.191837\n",
       "2010-01-07    42.215462\n",
       "2010-01-08    42.002800\n",
       "2010-01-11    42.695908\n",
       "2010-01-12    43.105453\n",
       "2010-01-13    43.325985\n",
       "2010-01-14    42.695908\n",
       "2010-01-15    42.278473\n",
       "2010-01-19    42.554134\n",
       "2010-01-20    42.420238\n",
       "2010-01-21    41.679886\n",
       "2010-01-22    41.695641\n",
       "2010-01-25    41.648388\n",
       "2010-01-26    42.223335\n",
       "2010-01-27    42.057941\n",
       "2010-01-28    41.435741\n",
       "2010-01-29    42.081577\n",
       "2010-02-01    42.120960\n",
       "2010-02-02    42.128822\n",
       "2010-02-03    42.743172\n",
       "2010-02-04    41.719276\n",
       "2010-02-05    42.097328\n",
       "2010-02-08    41.687763\n",
       "2010-02-09    41.939793\n",
       "2010-02-10    41.931919\n",
       "2010-02-11    41.805912\n",
       "2010-02-12    41.664135\n",
       "2010-02-16    42.183956\n",
       "                ...    \n",
       "2010-11-18    43.252506\n",
       "2010-11-19    43.581024\n",
       "2010-11-22    43.573009\n",
       "2010-11-23    43.004116\n",
       "2010-11-24    43.276539\n",
       "2010-11-26    43.060200\n",
       "2010-11-29    43.148327\n",
       "2010-11-30    43.340633\n",
       "2010-12-01    43.829414\n",
       "2010-12-02    43.869484\n",
       "2010-12-03    43.765312\n",
       "2010-12-06    43.661148\n",
       "2010-12-07    44.141911\n",
       "2010-12-08    43.902218\n",
       "2010-12-09    43.781361\n",
       "2010-12-10    43.733017\n",
       "2010-12-13    43.676632\n",
       "2010-12-14    43.869999\n",
       "2010-12-15    43.692722\n",
       "2010-12-16    44.015007\n",
       "2010-12-17    43.837769\n",
       "2010-12-20    43.322117\n",
       "2010-12-21    43.225433\n",
       "2010-12-22    42.951500\n",
       "2010-12-23    43.185139\n",
       "2010-12-27    43.160976\n",
       "2010-12-28    43.297951\n",
       "2010-12-29    43.571880\n",
       "2010-12-30    43.563824\n",
       "2010-12-31    43.451035\n",
       "Name: Adj Close, Length: 252, dtype: float64"
      ]
     },
     "execution_count": 10,
     "metadata": {},
     "output_type": "execute_result"
    }
   ],
   "source": [
    "df['Adj Close']['2010']"
   ]
  },
  {
   "cell_type": "code",
   "execution_count": 11,
   "metadata": {},
   "outputs": [
    {
     "data": {
      "text/plain": [
       "<matplotlib.axes._subplots.AxesSubplot at 0x7f9a79401a58>"
      ]
     },
     "execution_count": 11,
     "metadata": {},
     "output_type": "execute_result"
    },
    {
     "data": {
      "image/png": "[encoded data removed]",
      "text/plain": [
       "<Figure size 432x288 with 1 Axes>"
      ]
     },
     "metadata": {
      "needs_background": "light"
     },
     "output_type": "display_data"
    }
   ],
   "source": [
    "df['Adj Close']['2010'].plot()"
   ]
  },
  {
   "cell_type": "code",
   "execution_count": 12,
   "metadata": {},
   "outputs": [
    {
     "data": {
      "text/plain": [
       "Date\n",
       "2010-01-04    42.711647\n",
       "2010-01-05    42.286343\n",
       "2010-01-06    42.191837\n",
       "2010-01-07    42.215462\n",
       "2010-01-08    42.002800\n",
       "2010-01-11    42.695908\n",
       "2010-01-12    43.105453\n",
       "2010-01-13    43.325985\n",
       "2010-01-14    42.695908\n",
       "2010-01-15    42.278473\n",
       "2010-01-19    42.554134\n",
       "2010-01-20    42.420238\n",
       "2010-01-21    41.679886\n",
       "2010-01-22    41.695641\n",
       "2010-01-25    41.648388\n",
       "2010-01-26    42.223335\n",
       "2010-01-27    42.057941\n",
       "2010-01-28    41.435741\n",
       "2010-01-29    42.081577\n",
       "2010-02-01    42.120960\n",
       "2010-02-02    42.128822\n",
       "2010-02-03    42.743172\n",
       "2010-02-04    41.719276\n",
       "2010-02-05    42.097328\n",
       "2010-02-08    41.687763\n",
       "2010-02-09    41.939793\n",
       "2010-02-10    41.931919\n",
       "2010-02-11    41.805912\n",
       "2010-02-12    41.664135\n",
       "2010-02-16    42.183956\n",
       "                ...    \n",
       "2010-11-18    43.252506\n",
       "2010-11-19    43.581024\n",
       "2010-11-22    43.573009\n",
       "2010-11-23    43.004116\n",
       "2010-11-24    43.276539\n",
       "2010-11-26    43.060200\n",
       "2010-11-29    43.148327\n",
       "2010-11-30    43.340633\n",
       "2010-12-01    43.829414\n",
       "2010-12-02    43.869484\n",
       "2010-12-03    43.765312\n",
       "2010-12-06    43.661148\n",
       "2010-12-07    44.141911\n",
       "2010-12-08    43.902218\n",
       "2010-12-09    43.781361\n",
       "2010-12-10    43.733017\n",
       "2010-12-13    43.676632\n",
       "2010-12-14    43.869999\n",
       "2010-12-15    43.692722\n",
       "2010-12-16    44.015007\n",
       "2010-12-17    43.837769\n",
       "2010-12-20    43.322117\n",
       "2010-12-21    43.225433\n",
       "2010-12-22    42.951500\n",
       "2010-12-23    43.185139\n",
       "2010-12-27    43.160976\n",
       "2010-12-28    43.297951\n",
       "2010-12-29    43.571880\n",
       "2010-12-30    43.563824\n",
       "2010-12-31    43.451035\n",
       "Name: Adj Close, Length: 252, dtype: float64"
      ]
     },
     "execution_count": 12,
     "metadata": {},
     "output_type": "execute_result"
    }
   ],
   "source": [
    "df['Adj Close']['2010-01-01':'2010-12-31']"
   ]
  },
  {
   "cell_type": "code",
   "execution_count": 13,
   "metadata": {},
   "outputs": [
    {
     "data": {
      "text/plain": [
       "<matplotlib.axes._subplots.AxesSubplot at 0x7f9a888ce438>"
      ]
     },
     "execution_count": 13,
     "metadata": {},
     "output_type": "execute_result"
    },
    {
     "data": {
      "image/png": "[encoded data removed]",
      "text/plain": [
       "<Figure size 432x288 with 1 Axes>"
      ]
     },
     "metadata": {
      "needs_background": "light"
     },
     "output_type": "display_data"
    }
   ],
   "source": [
    "df['Adj Close']['2010-01-01':'2010-12-31'].plot()"
   ]
  },
  {
   "cell_type": "code",
   "execution_count": null,
   "metadata": {},
   "outputs": [],
   "source": []
  }
 ],
 "metadata": {
  "kernelspec": {
   "display_name": "Python 3",
   "language": "python",
   "name": "python3"
  },
  "language_info": {
   "codemirror_mode": {
    "name": "ipython",
    "version": 3
   },
   "file_extension": ".py",
   "mimetype": "text/x-python",
   "name": "python",
   "nbconvert_exporter": "python",
   "pygments_lexer": "ipython3",
   "version": "3.7.3"
  }
 },
 "nbformat": 4,
 "nbformat_minor": 2
}
