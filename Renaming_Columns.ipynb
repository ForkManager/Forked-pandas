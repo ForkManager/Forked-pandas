{
 "cells": [
  {
   "cell_type": "markdown",
   "metadata": {},
   "source": [
    "[Data School](https://www.youtube.com/watch?v=0uBirYFhizE&list=PL5-da3qGB5ICCsgW1MxlZ0Hq8LL5U3u9y&index=5)"
   ]
  },
  {
   "cell_type": "code",
   "execution_count": 8,
   "metadata": {},
   "outputs": [
    {
     "name": "stdout",
     "output_type": "stream",
     "text": [
      "                   City Colors_Reported Shape_Reported State             Time\n",
      "0                Ithaca             NaN       TRIANGLE    NY   6/1/1930 22:00\n",
      "1           Willingboro             NaN          OTHER    NJ  6/30/1930 20:00\n",
      "2               Holyoke             NaN           OVAL    CO  2/15/1931 14:00\n",
      "3               Abilene             NaN           DISK    KS   6/1/1931 13:00\n",
      "4  New York Worlds Fair             NaN          LIGHT    NY  4/18/1933 19:00\n"
     ]
    }
   ],
   "source": [
    "import pandas as pd\n",
    "\n",
    "if 0:\n",
    "    # use rename method\n",
    "    df = pd.read_csv('http://bit.ly/uforeports')\n",
    "    df.rename(columns={'Colors Reported':'Colors_Reported', 'Shape Reported':'Shape_Reported'}, inplace=True)\n",
    "    #df = df.rename(columns={'Colors Reported':'Colors_Reported', 'Shape Reported':'Shape_Reported'})\n",
    "elif 0:\n",
    "    # use columns attribute\n",
    "    df = pd.read_csv('http://bit.ly/uforeports')\n",
    "    columns = ['City', 'Colors_Reported', 'Shape_Reported', 'State', 'Time']\n",
    "    df.columns = columns\n",
    "elif 0:\n",
    "    # use columns attribute\n",
    "    df = pd.read_csv('http://bit.ly/uforeports')\n",
    "    # https://stackoverflow.com/questions/50495099/typeerror-type-aliases-cannot-be-used-with-isinstance\n",
    "    # TypeError: Type aliases cannot be used with isinstance()\n",
    "    # https://stackoverflow.com/questions/53652836/how-to-upgrade-pandas-on-mac\n",
    "    # pip3 install pandas --upgrade\n",
    "    # print(df.columns) # Index(['City', 'Colors Reported', 'Shape Reported', 'State', 'Time'], dtype='object')\n",
    "    # print(df.columns.str) # <pandas.core.strings.StringMethods object at 0x10862b438>\n",
    "    # print(df.columns.str.replace) # <bound method StringMethods.replace of <pandas.core.strings.StringMethods object at 0x10862b438>>\n",
    "    df.columns = df.columns.str.replace(' ', '_')\n",
    "elif 1:\n",
    "    # use names keyword\n",
    "    names = ['City', 'Colors_Reported', 'Shape_Reported', 'State', 'Time']\n",
    "    df = pd.read_csv('http://bit.ly/uforeports', header=0, names=names)\n",
    "    \n",
    "print(df.head())"
   ]
  },
  {
   "cell_type": "code",
   "execution_count": null,
   "metadata": {},
   "outputs": [],
   "source": []
  }
 ],
 "metadata": {
  "kernelspec": {
   "display_name": "Python [conda env:anaconda3]",
   "language": "python",
   "name": "conda-env-anaconda3-py"
  },
  "language_info": {
   "codemirror_mode": {
    "name": "ipython",
    "version": 3
   },
   "file_extension": ".py",
   "mimetype": "text/x-python",
   "name": "python",
   "nbconvert_exporter": "python",
   "pygments_lexer": "ipython3",
   "version": "3.5.0"
  }
 },
 "nbformat": 4,
 "nbformat_minor": 2
}
