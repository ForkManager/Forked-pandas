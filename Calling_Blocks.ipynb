{
 "cells": [
  {
   "cell_type": "markdown",
   "metadata": {},
   "source": [
    "[codebasics](https://www.youtube.com/watch?v=F6kmIpWWEdU)\n",
    "[Data School](https://www.youtube.com/watch?v=zxqjeyKP2Tk&list=PL5-da3qGB5ICCsgW1MxlZ0Hq8LL5U3u9y&index=3)"
   ]
  },
  {
   "cell_type": "code",
   "execution_count": 29,
   "metadata": {},
   "outputs": [],
   "source": [
    "import pandas as pd\n",
    "\n",
    "weather_data = {\n",
    "    'day': ['1/1/2017','1/2/2017','1/3/2017','1/4/2017','1/5/2017','1/6/2017'],\n",
    "    'temperature': [32,35,28,24,32,31],\n",
    "    'windspeed': [6,7,2,7,4,2],\n",
    "    'event': ['Rain', 'Sunny', 'Snow','Snow','Rain', 'Sunny']\n",
    "}\n",
    "\n",
    "df = pd.DataFrame(weather_data).set_index('day')"
   ]
  },
  {
   "cell_type": "markdown",
   "metadata": {},
   "source": [
    "- 엑시플리싯: Both start and end included when we use explicitly given index. \n",
    "\n",
    "- 임플리싯: Start included but end excluded as usual when we use implicitly given index.\n",
    "\n",
    "- 리스트: Everybodies included if list is used to inform locations."
   ]
  },
  {
   "cell_type": "markdown",
   "metadata": {},
   "source": [
    "# pd.DataFrame is like a matrix\n",
    "\n",
    "- loc - 엑시플리싯하게 주어진 인덱스와 컬럼을 인용, :, 혹은 리스트 형태로 이용, 인덱싱과 슬라이싱한다. \n",
    "\n",
    "- iloc - 임플리싯하게 주어진 인덱스와 컬럼을 인용, :, 혹은 리스트 형태로 이용, 인덱싱과 슬라이싱한다."
   ]
  },
  {
   "cell_type": "code",
   "execution_count": 45,
   "metadata": {},
   "outputs": [
    {
     "name": "stdout",
     "output_type": "stream",
     "text": [
      "          event  temperature  windspeed\n",
      "day                                    \n",
      "1/1/2017   Rain           32          6\n",
      "1/2/2017  Sunny           35          7\n",
      "1/3/2017   Snow           28          2\n",
      "1/4/2017   Snow           24          7\n",
      "1/5/2017   Rain           32          4\n",
      "1/6/2017  Sunny           31          2\n"
     ]
    }
   ],
   "source": [
    "print(df)"
   ]
  },
  {
   "cell_type": "code",
   "execution_count": 55,
   "metadata": {},
   "outputs": [
    {
     "name": "stdout",
     "output_type": "stream",
     "text": [
      "          event  temperature  windspeed\n",
      "day                                    \n",
      "1/2/2017  Sunny           35          7\n",
      "1/3/2017   Snow           28          2\n",
      "1/4/2017   Snow           24          7\n",
      "1/5/2017   Rain           32          4\n"
     ]
    }
   ],
   "source": [
    "print(df.loc['1/2/2017':'1/5/2017', 'event':'windspeed']) # 엑시플리싯, 엑시플리싯"
   ]
  },
  {
   "cell_type": "code",
   "execution_count": 48,
   "metadata": {},
   "outputs": [
    {
     "name": "stdout",
     "output_type": "stream",
     "text": [
      "          event  windspeed\n",
      "day                       \n",
      "1/2/2017  Sunny          7\n",
      "1/3/2017   Snow          2\n",
      "1/4/2017   Snow          7\n",
      "1/5/2017   Rain          4\n"
     ]
    }
   ],
   "source": [
    "print(df.loc['1/2/2017':'1/5/2017', ['event', 'windspeed']]) # 엑시플리싯, 리스트 "
   ]
  },
  {
   "cell_type": "code",
   "execution_count": 49,
   "metadata": {},
   "outputs": [
    {
     "name": "stdout",
     "output_type": "stream",
     "text": [
      "          event  windspeed\n",
      "day                       \n",
      "1/2/2017  Sunny          7\n",
      "1/3/2017   Snow          2\n",
      "1/4/2017   Snow          7\n",
      "1/5/2017   Rain          4\n"
     ]
    }
   ],
   "source": [
    "print(df.loc[['1/2/2017', '1/3/2017', '1/4/2017', '1/5/2017'], ['event', 'windspeed']]) # 리스트, 리스트"
   ]
  },
  {
   "cell_type": "code",
   "execution_count": 50,
   "metadata": {},
   "outputs": [
    {
     "name": "stdout",
     "output_type": "stream",
     "text": [
      "day\n",
      "1/1/2017     Rain\n",
      "1/2/2017    Sunny\n",
      "1/3/2017     Snow\n",
      "1/4/2017     Snow\n",
      "1/5/2017     Rain\n",
      "1/6/2017    Sunny\n",
      "Name: event, dtype: object\n"
     ]
    }
   ],
   "source": [
    "print(df.loc[:,'event']) # 엑시플리싯, 엑시플리싯 "
   ]
  },
  {
   "cell_type": "code",
   "execution_count": 51,
   "metadata": {},
   "outputs": [
    {
     "name": "stdout",
     "output_type": "stream",
     "text": [
      "          event  temperature\n",
      "day                         \n",
      "1/2/2017  Sunny           35\n",
      "1/3/2017   Snow           28\n",
      "1/4/2017   Snow           24\n",
      "1/5/2017   Rain           32\n"
     ]
    }
   ],
   "source": [
    "print(df.iloc[1:5,0:2]) # 임플리싯, 임플리싯"
   ]
  },
  {
   "cell_type": "code",
   "execution_count": 52,
   "metadata": {},
   "outputs": [
    {
     "name": "stdout",
     "output_type": "stream",
     "text": [
      "          event  windspeed\n",
      "day                       \n",
      "1/2/2017  Sunny          7\n",
      "1/3/2017   Snow          2\n",
      "1/4/2017   Snow          7\n",
      "1/5/2017   Rain          4\n"
     ]
    }
   ],
   "source": [
    "print(df.iloc[[1,2,3,4], [0,2]]) # 리스트, 리스트"
   ]
  },
  {
   "cell_type": "code",
   "execution_count": 53,
   "metadata": {},
   "outputs": [
    {
     "name": "stdout",
     "output_type": "stream",
     "text": [
      "day\n",
      "1/1/2017    32\n",
      "1/2/2017    35\n",
      "1/3/2017    28\n",
      "1/4/2017    24\n",
      "1/5/2017    32\n",
      "1/6/2017    31\n",
      "Name: temperature, dtype: int64\n"
     ]
    }
   ],
   "source": [
    "print(df.iloc[:,1]) # 임플리싯, 임플리싯"
   ]
  }
 ],
 "metadata": {
  "kernelspec": {
   "display_name": "Python [conda env:anaconda3]",
   "language": "python",
   "name": "conda-env-anaconda3-py"
  },
  "language_info": {
   "codemirror_mode": {
    "name": "ipython",
    "version": 3
   },
   "file_extension": ".py",
   "mimetype": "text/x-python",
   "name": "python",
   "nbconvert_exporter": "python",
   "pygments_lexer": "ipython3",
   "version": "3.5.0"
  }
 },
 "nbformat": 4,
 "nbformat_minor": 2
}
