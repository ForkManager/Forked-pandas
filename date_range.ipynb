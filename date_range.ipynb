{
 "cells": [
  {
   "cell_type": "markdown",
   "metadata": {},
   "source": [
    "codebasics [youtube](https://www.youtube.com/watch?v=A9c7hGXQ5A8) [github](https://github.com/codebasics/py/tree/master/pandas/15_ts_date_range)"
   ]
  },
  {
   "cell_type": "code",
   "execution_count": 1,
   "metadata": {},
   "outputs": [],
   "source": [
    "%matplotlib inline"
   ]
  },
  {
   "cell_type": "code",
   "execution_count": 15,
   "metadata": {},
   "outputs": [
    {
     "name": "stdout",
     "output_type": "stream",
     "text": [
      "     Open    High     Low   Close    Volume\n",
      "0  153.17  153.33  152.22  153.18  16404088\n",
      "1  153.58  155.45  152.89  155.45  27770715\n",
      "2  154.34  154.45  153.46  153.93  25331662\n",
      "3  153.90  155.81  153.78  154.45  26624926\n",
      "4  155.02  155.98  154.48  155.37  21069647\n",
      "      Open    High     Low   Close    Volume\n",
      "17  147.17  148.28  145.38  145.82  25692361\n",
      "18  145.01  146.16  143.62  143.73  24761891\n",
      "19  144.49  146.11  143.16  145.83  22082432\n",
      "20  144.71  145.13  142.28  143.68  31499368\n",
      "21  144.45  144.96  143.78  144.02  23024107\n",
      "\n",
      "<class 'pandas.core.indexes.datetimes.DatetimeIndex'>\n",
      "<class 'pandas._libs.tslibs.timestamps.Timestamp'>\n",
      "DatetimeIndex(['2016-06-01', '2016-06-02', '2016-06-03', '2016-06-06',\n",
      "               '2016-06-07', '2016-06-08', '2016-06-09', '2016-06-10',\n",
      "               '2016-06-13', '2016-06-14', '2016-06-15', '2016-06-16',\n",
      "               '2016-06-17', '2016-06-20', '2016-06-21', '2016-06-22',\n",
      "               '2016-06-23', '2016-06-24', '2016-06-27', '2016-06-28',\n",
      "               '2016-06-29', '2016-06-30'],\n",
      "              dtype='datetime64[ns]', freq='B')\n",
      "              Open    High     Low   Close    Volume\n",
      "2016-06-01  153.17  153.33  152.22  153.18  16404088\n",
      "2016-06-02  153.58  155.45  152.89  155.45  27770715\n",
      "2016-06-03  154.34  154.45  153.46  153.93  25331662\n",
      "2016-06-06  153.90  155.81  153.78  154.45  26624926\n",
      "2016-06-07  155.02  155.98  154.48  155.37  21069647\n",
      "              Open    High     Low   Close    Volume\n",
      "2016-06-24  147.17  148.28  145.38  145.82  25692361\n",
      "2016-06-27  145.01  146.16  143.62  143.73  24761891\n",
      "2016-06-28  144.49  146.11  143.16  145.83  22082432\n",
      "2016-06-29  144.71  145.13  142.28  143.68  31499368\n",
      "2016-06-30  144.45  144.96  143.78  144.02  23024107\n"
     ]
    }
   ],
   "source": [
    "import numpy as np\n",
    "import pandas as pd\n",
    "\n",
    "df = pd.read_csv(\"dow30/aapl_no_dates.csv\")\n",
    "print(df.head())\n",
    "print(df.tail())\n",
    "print()\n",
    "\n",
    "if 0:\n",
    "    index = pd.date_range(start=\"6/1/2016\", end=\"6/30/2016\")\n",
    "elif 0:\n",
    "    index = pd.date_range(start=\"6/1/2016\", end=\"6/30/2016\",\n",
    "                          freq='D') # default\n",
    "elif 1:\n",
    "    index = pd.date_range(start=\"6/1/2016\", end=\"6/30/2016\",\n",
    "                          freq='B') # freq='B' 주말만 제외\n",
    "elif 0:\n",
    "    index = pd.date_range(start=\"6/1/2016\", end=\"6/30/2016\",\n",
    "                          freq='W-SUN')\n",
    "elif 0:\n",
    "    index = pd.date_range(start=\"6/1/2016\", end=\"6/30/2016\",\n",
    "                          freq='W-MON')\n",
    "elif 1:\n",
    "    index = pd.date_range(start=\"6/1/2016\", end=\"6/30/2016\",\n",
    "                          freq='W-TUE')\n",
    "print(type(index))\n",
    "print(type(index[0]))\n",
    "print(index)\n",
    "\n",
    "if 1:\n",
    "    df.set_index(index, inplace=True)\n",
    "elif 1:\n",
    "    df = df.set_index(index)\n",
    "elif 1:\n",
    "    df.set_index(index) # this is not what I want\n",
    "    \n",
    "print(df.head())\n",
    "print(df.tail())"
   ]
  },
  {
   "cell_type": "code",
   "execution_count": null,
   "metadata": {},
   "outputs": [],
   "source": [
    "import pandas as pd\n",
    "import numpy as np\n",
    "\n",
    "if 1:\n",
    "    index = pd.date_range(start='1/1/2017', end='5/1/2017', freq='B')\n",
    "elif 1:\n",
    "    index = pd.date_range(start='1/1/2017', periods=72, freq='H')\n",
    "    \n",
    "ts = pd.Series(np.random.randint(1,10,len(rng)), index=index)\n",
    "ts"
   ]
  },
  {
   "cell_type": "code",
   "execution_count": 19,
   "metadata": {},
   "outputs": [
    {
     "name": "stdout",
     "output_type": "stream",
     "text": [
      "Empty DataFrame\n",
      "Columns: []\n",
      "Index: [2017-01-01 00:00:00, 2017-01-02 00:00:00, 2017-01-03 00:00:00, 2017-01-04 00:00:00, 2017-01-05 00:00:00]\n",
      "                 WMT      Vol\n",
      "Date                         \n",
      "1972-08-25  0.039309  2508800\n",
      "1972-08-28  0.039160   972800\n",
      "1972-08-29  0.038714  1945600\n",
      "1972-08-30  0.038714   409600\n",
      "1972-08-31  0.038118   870400\n",
      "                  WMT         Vol\n",
      "2017-01-03  66.929802  10473200.0\n",
      "2017-01-04  67.319717   7918000.0\n",
      "2017-01-05  67.465942   7099200.0\n",
      "2017-01-06  66.539886   9491100.0\n",
      "2017-01-09  66.978539   8660600.0\n",
      "2017-01-10  66.510643  10256500.0\n",
      "2017-01-11  66.803078   6697600.0\n",
      "2017-01-12  66.257187   6544900.0\n",
      "2017-01-13  65.438354  10012500.0\n",
      "2017-01-17  66.695847  13140200.0\n",
      "2017-01-18  66.393661   7321500.0\n",
      "2017-01-19  65.916008   6821100.0\n",
      "2017-01-20  65.487099  12054700.0\n",
      "2017-01-23  64.970451   7951400.0\n",
      "2017-01-24  65.701561  10710600.0\n",
      "2017-01-25  65.204407   8722900.0\n",
      "2017-01-26  65.048439   6504100.0\n",
      "2017-01-27  64.005402  13433600.0\n",
      "2017-01-30  64.746246   8641500.0\n",
      "2017-01-31  65.058182   9320900.0\n",
      "                  WMT         Vol\n",
      "2017-12-01  96.839630   8296200.0\n",
      "2017-12-04  96.501419   8956500.0\n",
      "2017-12-05  97.317123   9010100.0\n",
      "2017-12-06  96.769997   7141000.0\n",
      "2017-12-07  96.779999   7502600.0\n",
      "2017-12-08  96.550003   5821100.0\n",
      "2017-12-11  96.930000   8928900.0\n",
      "2017-12-12  96.699997   7810600.0\n",
      "2017-12-13  97.760002   7879400.0\n",
      "2017-12-14  97.129997   9385800.0\n",
      "2017-12-15  97.110001  16142800.0\n",
      "2017-12-18  97.900002   7964400.0\n",
      "2017-12-19  98.800003  12012200.0\n",
      "2017-12-20  98.750000  10729800.0\n",
      "2017-12-21  98.059998   7369100.0\n",
      "2017-12-22  98.209999   5478700.0\n",
      "2017-12-26  99.160004   4295900.0\n",
      "2017-12-27  99.260002   5140800.0\n",
      "2017-12-28  99.400002   9763900.0\n",
      "2017-12-29  98.750000   7144300.0\n"
     ]
    }
   ],
   "source": [
    "import pandas as pd\n",
    "\n",
    "start = \"2017-01-01\"\n",
    "end = \"2017-12-31\"\n",
    "dates = pd.date_range(start, end) # <class 'pandas.tseries.index.DatetimeIndex'>\n",
    "df_dates = pd.DataFrame(index=dates) # <class 'pandas.core.frame.DataFrame'>\n",
    "print(df_dates.head())\n",
    "\n",
    "df_temp = pd.read_csv(\"./data/dow30/WMT.CSV\",\n",
    "                      index_col=\"Date\",\n",
    "                      usecols=['Date', 'Adj Close', 'Volume']).rename(\n",
    "    columns={'Adj Close': 'WMT', 'Volume': 'Vol'}) # <class 'pandas.core.frame.DataFrame'>\n",
    "print(df_temp.head())\n",
    "\n",
    "df = df_dates.join(df_temp).dropna()\n",
    "# df = df_temp.join(df_dates).dropna() # 위와 다릅니다\n",
    "print(df.head(20))\n",
    "print(df.tail(20))"
   ]
  },
  {
   "cell_type": "markdown",
   "metadata": {},
   "source": [
    "# Finding missing dates from datetimeindex"
   ]
  },
  {
   "cell_type": "code",
   "execution_count": 14,
   "metadata": {
    "scrolled": true
   },
   "outputs": [
    {
     "name": "stdout",
     "output_type": "stream",
     "text": [
      "DatetimeIndex(['2016-06-04', '2016-06-05', '2016-06-11', '2016-06-12',\n",
      "               '2016-06-18', '2016-06-19', '2016-06-25', '2016-06-26'],\n",
      "              dtype='datetime64[ns]', freq=None)\n"
     ]
    }
   ],
   "source": [
    "full_index = pd.date_range(start=\"6/1/2016\", end=\"6/30/2016\", freq='D')\n",
    "print(full_index.difference(df.index))"
   ]
  }
 ],
 "metadata": {
  "anaconda-cloud": {},
  "kernelspec": {
   "display_name": "Python 3",
   "language": "python",
   "name": "python3"
  },
  "language_info": {
   "codemirror_mode": {
    "name": "ipython",
    "version": 3
   },
   "file_extension": ".py",
   "mimetype": "text/x-python",
   "name": "python",
   "nbconvert_exporter": "python",
   "pygments_lexer": "ipython3",
   "version": "3.7.3"
  }
 },
 "nbformat": 4,
 "nbformat_minor": 1
}
