{
 "cells": [
  {
   "cell_type": "code",
   "execution_count": 4,
   "metadata": {},
   "outputs": [
    {
     "name": "stdout",
     "output_type": "stream",
     "text": [
      "                Open      High       Low     Close  Adj Close   Volume\n",
      "Date                                                                  \n",
      "1972-08-25  0.063477  0.064697  0.063477  0.064453   0.039309  2508800\n",
      "1972-08-28  0.064453  0.064941  0.064209  0.064209   0.039160   972800\n",
      "1972-08-29  0.063965  0.063965  0.063477  0.063477   0.038714  1945600\n",
      "1972-08-30  0.063477  0.063477  0.062988  0.063477   0.038714   409600\n",
      "1972-08-31  0.062988  0.062988  0.062500  0.062500   0.038118   870400\n"
     ]
    }
   ],
   "source": [
    "import pandas as pd\n",
    "\n",
    "if 0:\n",
    "    # index_col keyword\n",
    "    df = pd.read_csv(\"./data/dow30/WMT.CSV\", index_col='Date')\n",
    "elif 1:\n",
    "    # set_index method\n",
    "    df = pd.read_csv(\"./data/dow30/WMT.CSV\").set_index('Date')\n",
    "    \n",
    "print(df.head())"
   ]
  },
  {
   "cell_type": "code",
   "execution_count": null,
   "metadata": {},
   "outputs": [],
   "source": []
  }
 ],
 "metadata": {
  "kernelspec": {
   "display_name": "Python [default]",
   "language": "python",
   "name": "python3"
  },
  "language_info": {
   "codemirror_mode": {
    "name": "ipython",
    "version": 3
   },
   "file_extension": ".py",
   "mimetype": "text/x-python",
   "name": "python",
   "nbconvert_exporter": "python",
   "pygments_lexer": "ipython3",
   "version": "3.5.0"
  }
 },
 "nbformat": 4,
 "nbformat_minor": 2
}
