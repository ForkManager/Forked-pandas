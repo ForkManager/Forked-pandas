{
 "cells": [
  {
   "cell_type": "markdown",
   "metadata": {},
   "source": [
    "[codebasics](https://www.youtube.com/watch?v=h4hOPGo4UVU&t=1s) \n",
    "[Data School](https://github.com/justmarkham/DAT8)"
   ]
  },
  {
   "cell_type": "markdown",
   "metadata": {},
   "source": [
    "- pd.concat - more fundamental tools\n",
    "\n",
    "- pd.merge - 공동의 칼럼들 (혹은 공동의 칼럼들중 지정한 칼럼들) 을 이용, 데이타 통합 \n",
    "\n",
    "- join method - 인덱스를 이용, 데이타 통합"
   ]
  },
  {
   "cell_type": "markdown",
   "metadata": {},
   "source": [
    "There are actually four types of joins supported by the Pandas `merge` function. Here's how they are described by the documentation:\n",
    "\n",
    "- **inner:** (default) use intersection of keys from both frames (SQL: inner join)\n",
    "- **outer:** use union of keys from both frames (SQL: full outer join)\n",
    "- **left:** use only keys from left frame (SQL: left outer join)\n",
    "- **right:** use only keys from right frame (SQL: right outer join)"
   ]
  },
  {
   "cell_type": "code",
   "execution_count": 26,
   "metadata": {},
   "outputs": [
    {
     "name": "stdout",
     "output_type": "stream",
     "text": [
      "  employee        group\n",
      "0      Bob   Accounting\n",
      "1     Jake  Engineering\n",
      "2     Lisa  Engineering\n",
      "3      Sue           HR\n",
      "\n",
      "   name  salary\n",
      "0  Jake   70000\n",
      "1  Lisa   80000\n",
      "2   Sue  120000\n",
      "3   Bob   90000\n",
      "\n",
      "  employee        group  name  salary\n",
      "0      Bob   Accounting  Jake   70000\n",
      "1     Jake  Engineering  Lisa   80000\n",
      "2     Lisa  Engineering   Sue  120000\n",
      "3      Sue           HR   Bob   90000\n"
     ]
    }
   ],
   "source": [
    "import pandas as pd\n",
    "\n",
    "if 0:\n",
    "    df1 = pd.DataFrame({\n",
    "        \"city\": [\"new york\", \"chicago\", \"orlando\"],\n",
    "        \"temperature\": [21, 14, 35]\n",
    "    })\n",
    "    df2 = pd.DataFrame({\n",
    "        \"city\": [\"chicago\", \"new york\", \"orlando\"],\n",
    "        \"humidity\": [65, 68, 75]\n",
    "    })\n",
    "elif 0:\n",
    "    df1 = pd.DataFrame({\n",
    "        \"city\": [\"new york\", \"chicago\", \"orlando\", \"baltimore\"],\n",
    "        \"temperature\": [21, 14, 35, 38]\n",
    "    })\n",
    "    df2 = pd.DataFrame({\n",
    "        \"city\": [\"chicago\", \"new york\", \"san diego\"],\n",
    "        \"humidity\": [65, 68, 71]\n",
    "    })\n",
    "elif 0:\n",
    "    df1 = pd.DataFrame({\n",
    "        \"city\": [\"new york\", \"chicago\", \"orlando\", \"baltimore\"],\n",
    "        \"temperature\": [21, 14, 35, 38],\n",
    "        \"humidity\": [65, 68, 71, 75]})\n",
    "    df2 = pd.DataFrame({\n",
    "        \"city\": [\"chicago\", \"new york\", \"san diego\"],\n",
    "        \"temperature\": [21, 21, 35]\n",
    "    })\n",
    "elif 1:\n",
    "    df1 = pd.DataFrame({\n",
    "        'employee': ['Bob', 'Jake', 'Lisa', 'Sue'],\n",
    "        'group': ['Accounting', 'Engineering', 'Engineering', 'HR']\n",
    "    })\n",
    "    df2 = pd.DataFrame({\n",
    "        'name': ['Jake', 'Lisa', 'Sue', 'Bob'],\n",
    "        'salary': [70000, 80000, 120000, 90000]\n",
    "    })\n",
    "    \n",
    "print(df1)\n",
    "print()\n",
    "print(df2)\n",
    "print()\n",
    "\n",
    "if 0:\n",
    "    df3 = pd.merge(df1, df2)\n",
    "elif 0:\n",
    "    df3 = pd.merge(df1, df2, on='city') # how='inner'\n",
    "elif 0:\n",
    "    #df3 = pd.merge(df1, df2, on='city', how='inner') # Only include observations found in both A and B\n",
    "    df3 = pd.merge(df1, df2, on='city', how='outer') # Include observations found in either A or B\n",
    "    #df3 = pd.merge(df1, df2, on='city', how='left') # Include all observations found in A\n",
    "    #df3 = pd.merge(df1, df2, on='city', how='right') # Include all observations found in B\n",
    "elif 0:\n",
    "    # indicator=True: 데이타가 양 쪽에서 왔는지, 왼쪽에서만 왔는지, 아니면 오른쪽에서만 왔는지 표시 \n",
    "    #df3 = pd.merge(df1, df2, on='city', how='inner', indicator=True) \n",
    "    df3 = pd.merge(df1, df2, on='city', how='outer', indicator=True) \n",
    "    #df3 = pd.merge(df1, df2, on='city', how='left', indicator=True) \n",
    "    #df3 = pd.merge(df1, df2, on='city', how='right', indicator=True) \n",
    "elif 0:\n",
    "    # Because the output would have two conflicting column names, \n",
    "    # the merge function automatically appends a suffix _x or _y to make the output columns unique. \n",
    "    # If these defaults are inappropriate, \n",
    "    # it is possible to specify a custom suffix using the suffixes keyword:\n",
    "    #df3 = pd.merge(df1, df2, on='city', how='inner', suffixes=['_left','_right']) \n",
    "    df3 = pd.merge(df1, df2, on='city', how='outer', suffixes=['_left','_right']) \n",
    "    #df3 = pd.merge(df1, df2, on='city', how='left', suffixes=['_left','_right']) \n",
    "    #df3 = pd.merge(df1, df2, on='city', how='right', suffixes=['_left','_right']) \n",
    "elif 0:\n",
    "    df3 = pd.merge(df1, df2, left_on='employee', right_on='name').drop('name', axis=1)\n",
    "elif 1:\n",
    "    # 인덱스를 이용 데이타를 통합할 때 join method를 사용하면 편한데, \n",
    "    # 굳이 pd.merge를 이용하여 작업을 하겠다면 할 수는 있다. \n",
    "    # left_index=True라고 하면 왼쪽에서 index를 사용하겠다는 것이고, \n",
    "    # right_index=True라고 하면 오른쪽에서 index를 사용하겠다는 것이다.\n",
    "    df3 = pd.merge(df1, df2, left_index=True, right_index=True)\n",
    "\n",
    "print(df3)"
   ]
  },
  {
   "cell_type": "code",
   "execution_count": null,
   "metadata": {},
   "outputs": [],
   "source": []
  }
 ],
 "metadata": {
  "anaconda-cloud": {},
  "kernelspec": {
   "display_name": "Python 3",
   "language": "python",
   "name": "python3"
  },
  "language_info": {
   "codemirror_mode": {
    "name": "ipython",
    "version": 3
   },
   "file_extension": ".py",
   "mimetype": "text/x-python",
   "name": "python",
   "nbconvert_exporter": "python",
   "pygments_lexer": "ipython3",
   "version": "3.7.3"
  }
 },
 "nbformat": 4,
 "nbformat_minor": 1
}
