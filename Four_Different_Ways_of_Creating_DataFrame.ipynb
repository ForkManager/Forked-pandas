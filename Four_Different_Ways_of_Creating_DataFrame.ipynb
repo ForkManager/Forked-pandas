{
 "cells": [
  {
   "cell_type": "markdown",
   "metadata": {},
   "source": [
    "[codebasics](https://www.youtube.com/watch?v=3k0HbcUGErE)\n",
    "[Data School](https://www.youtube.com/watch?v=5_QXMwezPJE&list=PL5-da3qGB5ICCsgW1MxlZ0Hq8LL5U3u9y&index=2)"
   ]
  },
  {
   "cell_type": "markdown",
   "metadata": {},
   "source": [
    "# 파일을 읽어서 데이타프레임 만들기\n",
    "\n",
    "[pd.read_csv](http://pandas.pydata.org/pandas-docs/stable/generated/pandas.read_csv.html)\n",
    "\n",
    "[pd.read_table](http://pandas.pydata.org/pandas-docs/stable/generated/pandas.read_table.html)\n",
    "\n",
    "[pd.read_excel](http://pandas.pydata.org/pandas-docs/stable/generated/pandas.read_excel.html)"
   ]
  },
  {
   "cell_type": "code",
   "execution_count": 13,
   "metadata": {},
   "outputs": [
    {
     "name": "stdout",
     "output_type": "stream",
     "text": [
      "         day  temperature  windspeed  event\n",
      "0 2017-01-01           32          6   Rain\n",
      "1 2017-01-02           35          7  Sunny\n",
      "2 2017-01-03           28          2   Snow\n"
     ]
    }
   ],
   "source": [
    "import pandas as pd\n",
    "\n",
    "if 0:\n",
    "    df = pd.read_csv(\"data/dow30/WMT.csv\")\n",
    "elif 0:\n",
    "    df = pd.read_csv('./data/pandas_data/weather_data.csv')\n",
    "elif 0:\n",
    "    df = pd.read_csv('http://bit.ly/imdbratings')\n",
    "elif 0:\n",
    "    df = pd.read_table('http://bit.ly/chiporders')  \n",
    "elif 0:\n",
    "    names = ['user_id', 'age', 'gender', 'occupation', 'zip_code']\n",
    "    df = pd.read_table('http://bit.ly/movieusers', sep='|', header=None, names=names)\n",
    "elif 1:\n",
    "    df = pd.read_excel('./data/pandas_data/weather_data.xlsx',\"Sheet1\")\n",
    "    \n",
    "print(df.head())"
   ]
  },
  {
   "cell_type": "markdown",
   "metadata": {},
   "source": [
    "# 직접 데이타프레임 만들기 - 각각의 칼럼마다 데이타를 제공"
   ]
  },
  {
   "cell_type": "code",
   "execution_count": 15,
   "metadata": {},
   "outputs": [
    {
     "name": "stdout",
     "output_type": "stream",
     "text": [
      "              area  population\n",
      "California  423967    38332521\n",
      "Florida     170312    19552860\n",
      "Illinois    149995    12882135\n",
      "New York    141297    19651127\n",
      "Texas       695662    26448193\n"
     ]
    }
   ],
   "source": [
    "import pandas as pd\n",
    "\n",
    "if 1:\n",
    "    data = {\n",
    "        'day': ['1/1/2017','1/2/2017','1/3/2017','1/4/2017','1/5/2017','1/6/2017'],\n",
    "        'temperature': [32,35,28,24,32,31],\n",
    "        'windspeed': [6,7,2,7,4,2],\n",
    "        'event': ['Rain', 'Sunny', 'Snow','Snow','Rain', 'Sunny']\n",
    "    }\n",
    "elif 0:\n",
    "    population = {\n",
    "        'California': 38332521,\n",
    "        'Texas': 26448193,\n",
    "        'New York': 19651127,\n",
    "        'Florida': 19552860,\n",
    "        'Illinois': 12882135\n",
    "    }\n",
    "    area = {\n",
    "        'California': 423967,\n",
    "        'Texas': 695662,\n",
    "        'New York': 141297,\n",
    "        'Florida': 170312,\n",
    "        'Illinois': 149995\n",
    "    }\n",
    "    data = {'population': population, 'area': area}\n",
    "\n",
    "\n",
    "df = pd.DataFrame(data)\n",
    "\n",
    "print(df)"
   ]
  },
  {
   "cell_type": "markdown",
   "metadata": {},
   "source": [
    "# 직접 데이타프레임 만들기 - 각각의 로마다 데이타를 제공"
   ]
  },
  {
   "cell_type": "code",
   "execution_count": 20,
   "metadata": {},
   "outputs": [
    {
     "name": "stdout",
     "output_type": "stream",
     "text": [
      "            population      area\n",
      "California      423967  38332521\n",
      "Texas           170312  19552860\n",
      "New York        149995  12882135\n",
      "Florida         141297  19651127\n",
      "Illinois        695662  26448193\n"
     ]
    }
   ],
   "source": [
    "import pandas as pd\n",
    "\n",
    "if 0:\n",
    "    row_data = [\n",
    "        ('1/1/2017',32,6,'Rain'),\n",
    "        ('1/2/2017',35,7,'Sunny'),\n",
    "        ('1/3/2017',28,2,'Snow')\n",
    "    ]\n",
    "    columns = ['day', 'temperature', 'windspeed', 'event'] \n",
    "elif 0:\n",
    "    row_data = [\n",
    "        {'day': '1/1/2017', 'temperature': 32, 'windspeed': 6, 'event': 'Rain'},\n",
    "        {'day': '1/2/2017', 'temperature': 35, 'windspeed': 7, 'event': 'Sunny'},\n",
    "        {'day': '1/3/2017', 'temperature': 28, 'windspeed': 2, 'event': 'Snow'},\n",
    "    ]\n",
    "    columns = ['day', 'temperature', 'windspeed', 'event'] \n",
    "elif 1:\n",
    "    row_data = [\n",
    "        [423967, 38332521],\n",
    "        [170312, 19552860],\n",
    "        [149995, 12882135],\n",
    "        [141297, 19651127],\n",
    "        [695662, 26448193]\n",
    "    ]\n",
    "    columns = ['population', 'area']\n",
    "    index = ['California', 'Texas', 'New York', 'Florida', 'Illinois']\n",
    "\n",
    "if 0:\n",
    "    df = pd.DataFrame(row_data, columns=columns)\n",
    "elif 1:    \n",
    "    df = pd.DataFrame(row_data, columns=columns, index=index)\n",
    "    \n",
    "print(df)"
   ]
  },
  {
   "cell_type": "markdown",
   "metadata": {},
   "source": [
    "# 직접 데이타프레임 만들기 - 행렬형태로 데이타를 제공"
   ]
  },
  {
   "cell_type": "code",
   "execution_count": 22,
   "metadata": {},
   "outputs": [
    {
     "name": "stdout",
     "output_type": "stream",
     "text": [
      "                   A         B         C         D\n",
      "2013-01-01  0.075312  0.507396  1.076995  0.053588\n",
      "2013-01-02 -1.169526  1.484012  1.905333 -0.886610\n",
      "2013-01-03  0.867103 -1.059034  0.126111  1.311057\n",
      "2013-01-04 -0.252999 -0.710044 -1.392062 -1.031258\n",
      "2013-01-05  1.158891 -1.128352  0.158416 -0.161469\n",
      "2013-01-06 -0.265125  0.244987 -0.399681 -1.155986\n",
      "<class 'pandas.core.indexes.datetimes.DatetimeIndex'>\n"
     ]
    }
   ],
   "source": [
    "import numpy as np\n",
    "import pandas as pd\n",
    "\n",
    "data = np.random.randn(6,4)\n",
    "columns = list('ABCD') # ['A', 'B', 'C', 'D']\n",
    "index = pd.date_range('20130101', periods=6)\n",
    "df = pd.DataFrame(data, columns=columns, index=index)\n",
    "\n",
    "print(df)"
   ]
  },
  {
   "cell_type": "code",
   "execution_count": null,
   "metadata": {},
   "outputs": [],
   "source": []
  }
 ],
 "metadata": {
  "kernelspec": {
   "display_name": "Python [conda env:anaconda3]",
   "language": "python",
   "name": "conda-env-anaconda3-py"
  },
  "language_info": {
   "codemirror_mode": {
    "name": "ipython",
    "version": 3
   },
   "file_extension": ".py",
   "mimetype": "text/x-python",
   "name": "python",
   "nbconvert_exporter": "python",
   "pygments_lexer": "ipython3",
   "version": "3.5.0"
  }
 },
 "nbformat": 4,
 "nbformat_minor": 2
}
