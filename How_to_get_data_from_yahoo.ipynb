{
 "cells": [
  {
   "cell_type": "markdown",
   "metadata": {},
   "source": [
    "\n",
    "- os.path.isfile(file) – check if given file exists.\n",
    "- os.path.exists(file_or_path) – check if given file or path exists.\n",
    "\n",
    "https://tecadmin.net/python-check-file-directory-exists/\n",
    "\n",
    "- os.mkdir(path)\n",
    "\n",
    "https://thispointer.com/how-to-create-a-directory-in-python/"
   ]
  },
  {
   "cell_type": "code",
   "execution_count": 1,
   "metadata": {},
   "outputs": [],
   "source": [
    "import pandas_datareader as pdr # pip install pandas_datareader \n",
    "import os\n",
    "\n",
    "if not os.path.exists(\"./dow30\"):    \n",
    "    os.mkdir(\"./dow30\")\n",
    "\n",
    "pdr.get_data_yahoo('WMT').to_csv('./dow30/DOW.csv')"
   ]
  },
  {
   "cell_type": "code",
   "execution_count": 2,
   "metadata": {},
   "outputs": [],
   "source": [
    "import pandas_datareader as pdr\n",
    "\n",
    "dow30 = ['MMM','AXP','AAPL','BA','CAT','CVX','CSCO','KO','DIS','DOW',\n",
    "         'XOM','GS','HD','IBM','INTC','JNJ','JPM','MCD','MRK','MSFT',\n",
    "         'NKE','PFE','PG','TRV','UTX','UNH','VZ','V','WMT','WBA']\n",
    "\n",
    "for ticker in dow30:\n",
    "    pdr.get_data_yahoo(ticker).to_csv('./dow30/{}.csv'.format(ticker))"
   ]
  },
  {
   "cell_type": "markdown",
   "metadata": {},
   "source": [
    "# Pandas dates not showing on plot\n",
    "\n",
    "Your date is a string, so matplotlib so it wont automatically plot the labels. Change it to a datetime first and then plot.\n",
    "```\n",
    "import pandas as pd\n",
    "df['Date'] = pd.to_datetime(df.Date)\n",
    "```\n",
    "\n",
    "https://stackoverflow.com/questions/52527270/pandas-dates-not-showing-on-plot"
   ]
  },
  {
   "cell_type": "code",
   "execution_count": 3,
   "metadata": {},
   "outputs": [
    {
     "data": {
      "text/plain": [
       "<matplotlib.axes._subplots.AxesSubplot at 0x127e06ef0>"
      ]
     },
     "execution_count": 3,
     "metadata": {},
     "output_type": "execute_result"
    }
   ],
   "source": [
    "import pandas as pd\n",
    "\n",
    "df = pd.read_csv(\"./dow30/WMT.CSV\", index_col='Date')\n",
    "df.index = pd.to_datetime(df.index)\n",
    "df['Adj Close'].plot()"
   ]
  }
 ],
 "metadata": {
  "kernelspec": {
   "display_name": "Python [conda env:anaconda]",
   "language": "python",
   "name": "conda-env-anaconda-py"
  },
  "language_info": {
   "codemirror_mode": {
    "name": "ipython",
    "version": 3
   },
   "file_extension": ".py",
   "mimetype": "text/x-python",
   "name": "python",
   "nbconvert_exporter": "python",
   "pygments_lexer": "ipython3",
   "version": "3.5.5"
  }
 },
 "nbformat": 4,
 "nbformat_minor": 2
}
