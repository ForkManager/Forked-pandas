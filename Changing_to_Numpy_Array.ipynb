{
 "cells": [
  {
   "cell_type": "code",
   "execution_count": 2,
   "metadata": {},
   "outputs": [],
   "source": [
    "import numpy as np\n",
    "import pandas as pd"
   ]
  },
  {
   "cell_type": "code",
   "execution_count": 3,
   "metadata": {},
   "outputs": [
    {
     "name": "stdout",
     "output_type": "stream",
     "text": [
      "          event  temperature  windspeed\n",
      "day                                    \n",
      "1/1/2017   Rain           32          6\n",
      "1/2/2017  Sunny           35          7\n",
      "1/3/2017   Snow           28          2\n",
      "1/4/2017   Snow           24          7\n",
      "1/5/2017   Rain           32          4\n",
      "1/6/2017  Sunny           31          2\n"
     ]
    }
   ],
   "source": [
    "weather_data = {\n",
    "    'day': ['1/1/2017','1/2/2017','1/3/2017','1/4/2017','1/5/2017','1/6/2017'],\n",
    "    'temperature': [32,35,28,24,32,31],\n",
    "    'windspeed': [6,7,2,7,4,2],\n",
    "    'event': ['Rain', 'Sunny', 'Snow','Snow','Rain', 'Sunny']\n",
    "}\n",
    "\n",
    "df = pd.DataFrame(weather_data).set_index('day')\n",
    "print(df)"
   ]
  },
  {
   "cell_type": "code",
   "execution_count": 12,
   "metadata": {},
   "outputs": [
    {
     "name": "stdout",
     "output_type": "stream",
     "text": [
      "[['Rain' 32 6]\n",
      " ['Sunny' 35 7]\n",
      " ['Snow' 28 2]\n",
      " ['Snow' 24 7]\n",
      " ['Rain' 32 4]\n",
      " ['Sunny' 31 2]]\n",
      "object\n",
      "<class 'str'>\n",
      "<class 'numpy.ndarray'>\n"
     ]
    }
   ],
   "source": [
    "if 1:\n",
    "    a = np.array(df)\n",
    "elif 0:\n",
    "    a = np.array(df[['temperature', 'windspeed']])\n",
    "    \n",
    "print(a)\n",
    "print(a.dtype)\n",
    "print(type(a[1,0]))\n",
    "print(type(a))"
   ]
  },
  {
   "cell_type": "code",
   "execution_count": null,
   "metadata": {},
   "outputs": [],
   "source": []
  }
 ],
 "metadata": {
  "kernelspec": {
   "display_name": "Python [conda env:anaconda3]",
   "language": "python",
   "name": "conda-env-anaconda3-py"
  },
  "language_info": {
   "codemirror_mode": {
    "name": "ipython",
    "version": 3
   },
   "file_extension": ".py",
   "mimetype": "text/x-python",
   "name": "python",
   "nbconvert_exporter": "python",
   "pygments_lexer": "ipython3",
   "version": "3.5.0"
  }
 },
 "nbformat": 4,
 "nbformat_minor": 2
}
