{
 "cells": [
  {
   "cell_type": "markdown",
   "metadata": {},
   "source": [
    "[codebasics](https://www.youtube.com/watch?v=XOxABiMhG2U&t=15s)"
   ]
  },
  {
   "cell_type": "code",
   "execution_count": null,
   "metadata": {},
   "outputs": [],
   "source": [
    "import pandas as pd\n",
    "import numpy as np\n",
    "\n",
    "df = pd.read_csv(\"data/pandas_data/weather_data.csv\")  \n",
    "print(df)\n",
    "\n",
    "if 1:\n",
    "    df = df.replace(to_replace=-99999, value=np.nan)\n",
    "elif 0:\n",
    "    df = df.replace(to_replace=[-99999, 6, 7], value=0)\n",
    "elif 0:\n",
    "    df = df.replace(to_replace=[-99999, 'Sunny'], value=[np.nan, 'sunny'])\n",
    "elif 0:\n",
    "    # replacing per column\n",
    "    df = df.replace(to_replace={\n",
    "        'temperature': -99999,\n",
    "        'windspeed': 7,\n",
    "        'event': '0'\n",
    "    }, value=np.nan)\n",
    "elif 1:\n",
    "    # replacing per column\n",
    "    df = df.replace(to_replace={\n",
    "        'temperature': -99999,\n",
    "        'windspeed': 7,\n",
    "        'event': '0'\n",
    "    }, value={\n",
    "        'temperature': np.nan,\n",
    "        'windspeed': 3.14,\n",
    "        'event': 'WINDY'\n",
    "    })\n",
    "    \n",
    "print(df)"
   ]
  }
 ],
 "metadata": {
  "kernelspec": {
   "display_name": "Python [conda env:anaconda3]",
   "language": "python",
   "name": "conda-env-anaconda3-py"
  },
  "language_info": {
   "codemirror_mode": {
    "name": "ipython",
    "version": 3
   },
   "file_extension": ".py",
   "mimetype": "text/x-python",
   "name": "python",
   "nbconvert_exporter": "python",
   "pygments_lexer": "ipython3",
   "version": "3.5.0"
  }
 },
 "nbformat": 4,
 "nbformat_minor": 2
}
