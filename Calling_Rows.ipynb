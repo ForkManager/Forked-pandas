{
 "cells": [
  {
   "cell_type": "markdown",
   "metadata": {},
   "source": [
    "[codebasics](https://www.youtube.com/watch?v=F6kmIpWWEdU)\n",
    "[Data School](https://www.youtube.com/watch?v=zxqjeyKP2Tk&list=PL5-da3qGB5ICCsgW1MxlZ0Hq8LL5U3u9y&index=3)"
   ]
  },
  {
   "cell_type": "markdown",
   "metadata": {},
   "source": [
    "- 엑시플리싯: Both start and end included when we use explicitly given index. \n",
    "\n",
    "- 임플리싯: Start included but end excluded as usual when we use implicitly given index.\n",
    "\n",
    "- 리스트: Everybodies included if list is used to inform locations."
   ]
  },
  {
   "cell_type": "markdown",
   "metadata": {},
   "source": [
    "# pd.DataFrame is like a matrix\n",
    "\n",
    "- loc - 엑시플리싯하게 주어진 인덱스와 컬럼을 인용, :, 혹은 리스트 형태로 이용, 인덱싱과 슬라이싱한다. \n",
    "\n",
    "- iloc - 임플리싯하게 주어진 인덱스와 컬럼을 인용, :, 혹은 리스트 형태로 이용, 인덱싱과 슬라이싱한다."
   ]
  },
  {
   "cell_type": "code",
   "execution_count": 23,
   "metadata": {},
   "outputs": [
    {
     "name": "stdout",
     "output_type": "stream",
     "text": [
      "          temperature  windspeed  event\n",
      "day                                    \n",
      "1/1/2017           32          6   Rain\n",
      "1/2/2017       -99999          7  Sunny\n",
      "1/3/2017           28     -99999   Snow\n",
      "1/4/2017       -99999          7      0\n",
      "1/5/2017           32     -99999   Rain\n",
      "1/6/2017           31          2  Sunny\n",
      "1/6/2017           34          5      0\n",
      "          temperature  windspeed  event\n",
      "day                                    \n",
      "1/2/2017       -99999          7  Sunny\n",
      "1/3/2017           28     -99999   Snow\n",
      "<class 'pandas.core.frame.DataFrame'>\n"
     ]
    }
   ],
   "source": [
    "import pandas as pd\n",
    "\n",
    "df = pd.read_csv(\"data/pandas_data/weather_data.csv\").set_index('day')\n",
    "print(df)\n",
    "\n",
    "if 0:\n",
    "    dg = df[1] # error\n",
    "    # https://stackoverflow.com/questions/16096627/selecting-a-row-of-pandas-series-dataframe-by-integer-index\n",
    "    # The primary purpose of the DataFrame indexing operator, [] is to select columns.\n",
    "    # When the indexing operator is passed a string or integer, it attempts to find a column with that particular name and return it as a Series.\n",
    "    # So, in the question above: df[2] searches for a column name matching the integer value 2. This column does not exist and a KeyError is raised.\n",
    "elif 0:\n",
    "    dg = df[1:3]\n",
    "    # https://stackoverflow.com/questions/16096627/selecting-a-row-of-pandas-series-dataframe-by-integer-index\n",
    "    # The DataFrame indexing operator completely changes behavior to select rows when slice notation is used\n",
    "    # Strangely, when given a slice, the DataFrame indexing operator selects rows and can do so by integer location or by index label. \n",
    "elif 0:\n",
    "    # loc - explicit\n",
    "    #dg = df.loc['1/2/2017',:]\n",
    "    dg = df.loc['1/2/2017']\n",
    "elif 0:\n",
    "    # loc - explicit\n",
    "    #dg = df.loc['1/2/2017':'1/3/2017',:]\n",
    "    dg = df.loc['1/2/2017':'1/3/2017']\n",
    "elif 0:\n",
    "    # iloc - implicit\n",
    "    #dg = df.iloc[1,:]\n",
    "    dg = df.iloc[1]\n",
    "elif 1:\n",
    "    # iloc - implicit\n",
    "    #dg = df.iloc[1:3,:]\n",
    "    dg = df.iloc[1:3]\n",
    "    \n",
    "print(dg)\n",
    "print(type(dg))"
   ]
  },
  {
   "cell_type": "code",
   "execution_count": null,
   "metadata": {},
   "outputs": [],
   "source": []
  }
 ],
 "metadata": {
  "kernelspec": {
   "display_name": "Python [conda env:anaconda3]",
   "language": "python",
   "name": "conda-env-anaconda3-py"
  },
  "language_info": {
   "codemirror_mode": {
    "name": "ipython",
    "version": 3
   },
   "file_extension": ".py",
   "mimetype": "text/x-python",
   "name": "python",
   "nbconvert_exporter": "python",
   "pygments_lexer": "ipython3",
   "version": "3.5.0"
  }
 },
 "nbformat": 4,
 "nbformat_minor": 2
}
