{
 "cells": [
  {
   "cell_type": "markdown",
   "metadata": {},
   "source": [
    "[Data School](https://www.youtube.com/watch?v=hSrDViyKWVk&list=PL5-da3qGB5ICCsgW1MxlZ0Hq8LL5U3u9y&index=4)"
   ]
  },
  {
   "cell_type": "code",
   "execution_count": 21,
   "metadata": {},
   "outputs": [
    {
     "name": "stdout",
     "output_type": "stream",
     "text": [
      "         Date      Open      High       Low     Close  Adj Close   Volume\n",
      "0  1972-08-25  0.063477  0.064697  0.063477  0.064453   0.039309  2508800\n",
      "1  1972-08-28  0.064453  0.064941  0.064209  0.064209   0.039160   972800\n",
      "2  1972-08-29  0.063965  0.063965  0.063477  0.063477   0.038714  1945600\n",
      "3  1972-08-30  0.063477  0.063477  0.062988  0.063477   0.038714   409600\n",
      "4  1972-08-31  0.062988  0.062988  0.062500  0.062500   0.038118   870400\n"
     ]
    }
   ],
   "source": [
    "import pandas as pd\n",
    "\n",
    "df = pd.read_csv(\"data/dow30/WMT.csv\")\n",
    "    \n",
    "print(df.head())"
   ]
  },
  {
   "cell_type": "markdown",
   "metadata": {},
   "source": [
    "어트리뷰트: 끝에 괄호가 없다.\n",
    "\n",
    "메쏘드: 끝에 괄호가 있다."
   ]
  },
  {
   "cell_type": "code",
   "execution_count": 22,
   "metadata": {},
   "outputs": [
    {
     "name": "stdout",
     "output_type": "stream",
     "text": [
      "(11447, 7)\n",
      "Date          object\n",
      "Open         float64\n",
      "High         float64\n",
      "Low          float64\n",
      "Close        float64\n",
      "Adj Close    float64\n",
      "Volume         int64\n",
      "dtype: object\n",
      "Index(['Date', 'Open', 'High', 'Low', 'Close', 'Adj Close', 'Volume'], dtype='object')\n"
     ]
    }
   ],
   "source": [
    "print(df.shape)\n",
    "print(df.dtypes)\n",
    "print(df.columns)"
   ]
  },
  {
   "cell_type": "code",
   "execution_count": 30,
   "metadata": {},
   "outputs": [
    {
     "name": "stdout",
     "output_type": "stream",
     "text": [
      "count    11447.000000\n",
      "mean        27.852623\n",
      "std         27.836891\n",
      "min          0.015625\n",
      "25%          1.210938\n",
      "50%         13.281250\n",
      "75%         53.135000\n",
      "max        102.029999\n",
      "Name: Open, dtype: float64\n"
     ]
    }
   ],
   "source": [
    "import numpy as np\n",
    "\n",
    "#print(df.describe(include=[np.object]))\n",
    "#print(df.describe(include=[np.int64]))\n",
    "#print(df.describe(include=[np.float64]))\n",
    "#print(df.describe(include=[np.number]))\n",
    "#print(df.describe())\n",
    "#print(df.describe(include='all'))\n",
    "print(df.Open.describe())\n",
    "#print(df['Open'].describe())"
   ]
  },
  {
   "cell_type": "code",
   "execution_count": null,
   "metadata": {},
   "outputs": [],
   "source": []
  },
  {
   "cell_type": "code",
   "execution_count": null,
   "metadata": {},
   "outputs": [],
   "source": []
  }
 ],
 "metadata": {
  "kernelspec": {
   "display_name": "Python [default]",
   "language": "python",
   "name": "python3"
  },
  "language_info": {
   "codemirror_mode": {
    "name": "ipython",
    "version": 3
   },
   "file_extension": ".py",
   "mimetype": "text/x-python",
   "name": "python",
   "nbconvert_exporter": "python",
   "pygments_lexer": "ipython3",
   "version": "3.5.0"
  }
 },
 "nbformat": 4,
 "nbformat_minor": 1
}
