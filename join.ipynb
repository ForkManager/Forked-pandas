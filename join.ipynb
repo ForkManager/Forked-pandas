{
 "cells": [
  {
   "cell_type": "markdown",
   "metadata": {},
   "source": [
    "[codebasics](https://www.youtube.com/watch?v=h4hOPGo4UVU&t=1s) [github](https://github.com/codebasics/py/blob/master/pandas/9_merge/pandas_merge.ipynb)"
   ]
  },
  {
   "cell_type": "markdown",
   "metadata": {},
   "source": [
    "- pd.merge - 공동의 칼럼들 (혹은 공동의 칼럼들중 지정한 칼럼들) 을 이용, 데이타 통합 \n",
    "\n",
    "- join method - 인덱스를 이용, 데이타 통합"
   ]
  },
  {
   "cell_type": "code",
   "execution_count": 15,
   "metadata": {},
   "outputs": [
    {
     "name": "stdout",
     "output_type": "stream",
     "text": [
      "           temperature  humidity\n",
      "city                            \n",
      "new york            21        65\n",
      "chicago             14        68\n",
      "orlando             35        71\n",
      "baltimore           38        75\n",
      "\n",
      "           temperature\n",
      "city                  \n",
      "chicago             21\n",
      "new york            21\n",
      "san diego           35\n",
      "\n",
      "           temperature_left  humidity  temperature_right\n",
      "city                                                    \n",
      "baltimore              38.0      75.0                NaN\n",
      "chicago                14.0      68.0               21.0\n",
      "new york               21.0      65.0               21.0\n",
      "orlando                35.0      71.0                NaN\n",
      "san diego               NaN       NaN               35.0\n"
     ]
    }
   ],
   "source": [
    "import pandas as pd\n",
    "\n",
    "if 0:\n",
    "    df1 = pd.DataFrame({\n",
    "        \"city\": [\"new york\", \"chicago\", \"orlando\"],\n",
    "        \"temperature\": [21, 14, 35]\n",
    "    }).set_index('city')\n",
    "    df2 = pd.DataFrame({\n",
    "        \"city\": [\"chicago\", \"new york\", \"orlando\"],\n",
    "        \"humidity\": [65, 68, 75]\n",
    "    }).set_index('city')\n",
    "elif 0:\n",
    "    df1 = pd.DataFrame({\n",
    "        \"city\": [\"new york\", \"chicago\", \"orlando\", \"baltimore\"],\n",
    "        \"temperature\": [21, 14, 35, 38]\n",
    "    }).set_index('city')\n",
    "    df2 = pd.DataFrame({\n",
    "        \"city\": [\"chicago\", \"new york\", \"san diego\"],\n",
    "        \"humidity\": [65, 68, 71]\n",
    "    }).set_index('city')\n",
    "elif 1:\n",
    "    df1 = pd.DataFrame({\n",
    "        \"city\": [\"new york\", \"chicago\", \"orlando\", \"baltimore\"],\n",
    "        \"temperature\": [21, 14, 35, 38],\n",
    "        \"humidity\": [65, 68, 71, 75]}).set_index('city')\n",
    "    df2 = pd.DataFrame({\n",
    "        \"city\": [\"chicago\", \"new york\", \"san diego\"],\n",
    "        \"temperature\": [21, 21, 35]\n",
    "    }).set_index('city')\n",
    "elif 1:\n",
    "    df1 = pd.DataFrame({\n",
    "        'employee': ['Bob', 'Jake', 'Lisa', 'Sue'],\n",
    "        'group': ['Accounting', 'Engineering', 'Engineering', 'HR']\n",
    "    }).set_index('employee')\n",
    "    df2 = pd.DataFrame({\n",
    "        'name': ['Jake', 'Lisa', 'Sue', 'Bob'],\n",
    "        'salary': [70000, 80000, 120000, 90000]\n",
    "    }).set_index('name')\n",
    "    \n",
    "print(df1)\n",
    "print()\n",
    "print(df2)\n",
    "print()\n",
    "\n",
    "if 0:\n",
    "    df3 = df1.join(df2)\n",
    "elif 0:\n",
    "    #df3 = df1.join(df2, how='inner')\n",
    "    df3 = df1.join(df2, how='outer')\n",
    "    #df3 = df1.join(df2, how='left') # default\n",
    "    #df3 = df1.join(df2, how='right')\n",
    "elif 1:\n",
    "    #df3 = df1.join(df2, how='inner')\n",
    "    df3 = df1.join(df2, how='outer',  lsuffix='_left', rsuffix='_right')\n",
    "    #df3 = df1.join(df2, how='left') # default\n",
    "    #df3 = df1.join(df2, how='right')\n",
    "    \n",
    "print(df3)"
   ]
  },
  {
   "cell_type": "code",
   "execution_count": 21,
   "metadata": {},
   "outputs": [
    {
     "name": "stdout",
     "output_type": "stream",
     "text": [
      "                  WMT         Vol\n",
      "2017-01-03  66.929802  10473200.0\n",
      "2017-01-04  67.319717   7918000.0\n",
      "2017-01-05  67.465942   7099200.0\n",
      "2017-01-06  66.539886   9491100.0\n",
      "2017-01-09  66.978539   8660600.0\n",
      "                  WMT        Vol\n",
      "2017-12-22  98.209999  5478700.0\n",
      "2017-12-26  99.160004  4295900.0\n",
      "2017-12-27  99.260002  5140800.0\n",
      "2017-12-28  99.400002  9763900.0\n",
      "2017-12-29  98.750000  7144300.0\n"
     ]
    }
   ],
   "source": [
    "import pandas as pd\n",
    "\n",
    "start = \"2017-01-01\"\n",
    "end = \"2017-12-31\"\n",
    "dates = pd.date_range(start, end)\n",
    "df = pd.DataFrame(index=dates)\n",
    "\n",
    "df_temp = pd.read_csv(\n",
    "    \"data/dow30/WMT.CSV\",\n",
    "    index_col=\"Date\",\n",
    "    usecols=['Date', 'Adj Close', 'Volume']).rename(\n",
    "    columns={'Adj Close': 'WMT', 'Volume': 'Vol'})\n",
    "\n",
    "df = df.join(df_temp).dropna()\n",
    "#df = df_temp.join(df)\n",
    "print(df.head())\n",
    "print(df.tail())"
   ]
  },
  {
   "cell_type": "code",
   "execution_count": null,
   "metadata": {},
   "outputs": [],
   "source": []
  }
 ],
 "metadata": {
  "anaconda-cloud": {},
  "kernelspec": {
   "display_name": "Python 3",
   "language": "python",
   "name": "python3"
  },
  "language_info": {
   "codemirror_mode": {
    "name": "ipython",
    "version": 3
   },
   "file_extension": ".py",
   "mimetype": "text/x-python",
   "name": "python",
   "nbconvert_exporter": "python",
   "pygments_lexer": "ipython3",
   "version": "3.7.3"
  }
 },
 "nbformat": 4,
 "nbformat_minor": 1
}
